{
 "cells": [
  {
   "cell_type": "code",
   "execution_count": 7,
   "metadata": {},
   "outputs": [],
   "source": [
    "import cv2\n",
    "import glob\n",
    "import pandas as pd\n",
    "import numpy as np\n",
    "from sklearn.preprocessing import LabelBinarizer\n",
    "from sklearn.model_selection import train_test_split"
   ]
  },
  {
   "cell_type": "code",
   "execution_count": 8,
   "metadata": {},
   "outputs": [],
   "source": [
    "class PreProcessing():\n",
    "\n",
    "    def __init__(self, im_path, txt_path):\n",
    "        self.im_path = im_path\n",
    "        self.txt_path = txt_path\n",
    "\n",
    "    def load_images(self):\n",
    "        # Variables\n",
    "        im_data   = []\n",
    "        rooms = []\n",
    "        house_number = []\n",
    "        # Read Dataset\n",
    "        for i , name in enumerate(glob.glob(self.im_path + \"\\\\*\")):\n",
    "            # Read images\n",
    "            img = cv2.imread(name)\n",
    "            # Resize and Normalize\n",
    "            img = cv2.resize(img, (32, 32))/255.0\n",
    "            # RGB Color\n",
    "            #img = cv2.cvtColor(img, cv2.COLOR_BGR2RGB)    % CV2 read images in GBR colors\n",
    "            # Create Dataset\n",
    "            im_data.append(img)\n",
    "            # Create Labels\n",
    "            rooms.append(name.split(\"\\\\\")[-1].split('_')[-1].split('.')[-2]) \n",
    "            house_number.append(name.split(\"\\\\\")[-1].split('_')[0])\n",
    "            if i % 100 == 0:\n",
    "                    print(f\"[INFO]: {i}/21000 processed!\")\n",
    "        \n",
    "        return im_data, rooms, house_number\n",
    "\n",
    "    def read_text(self):\n",
    "        txt_data = []\n",
    "        # Read Text file\n",
    "        df = pd.read_csv(self.txt_path,  sep=\" \", \n",
    "                  names=[\"F1\", \"F2\", \"F3\", \"F4\", \"Price\"])\n",
    "        # Consider the four first Column as inputs\n",
    "        txt_data = df.loc[:,[\"F1\", \"F2\", \"F3\", \"F4\"]]\n",
    "        # Consider the  last Column as Label\n",
    "        labels = df.loc[:,[\"Price\"]]\n",
    "\n",
    "        return txt_data, labels\n",
    "    \n",
    "    def label_binarizer(self, labels):\n",
    "        LB = LabelBinarizer()\n",
    "        all_labels = LB.fit_transform(labels)\n",
    "\n",
    "        return all_labels\n",
    "    \n",
    "    def train_test_split(txt_data, im_data, labels):\n",
    "        txt_train, txt_test,labels_train, labels_test = train_test_split(txt_data, labels, test_size = 0.2 )\n",
    "        img_train, img_test = train_test_split(im_data, labels, test_size = 0.2 )\n",
    "        return txt_train, txt_test, img_train, img_test, labels_train, labels_test"
   ]
  },
  {
   "cell_type": "code",
   "execution_count": 9,
   "metadata": {},
   "outputs": [
    {
     "name": "stdout",
     "output_type": "stream",
     "text": [
      "[INFO]: 0/21000 processed!\n",
      "[INFO]: 100/21000 processed!\n",
      "[INFO]: 200/21000 processed!\n",
      "[INFO]: 300/21000 processed!\n",
      "[INFO]: 400/21000 processed!\n",
      "[INFO]: 500/21000 processed!\n",
      "[INFO]: 600/21000 processed!\n",
      "[INFO]: 700/21000 processed!\n",
      "[INFO]: 800/21000 processed!\n",
      "[INFO]: 900/21000 processed!\n",
      "[INFO]: 1000/21000 processed!\n",
      "[INFO]: 1100/21000 processed!\n",
      "[INFO]: 1200/21000 processed!\n",
      "[INFO]: 1300/21000 processed!\n",
      "[INFO]: 1400/21000 processed!\n",
      "[INFO]: 1500/21000 processed!\n",
      "[INFO]: 1600/21000 processed!\n",
      "[INFO]: 1700/21000 processed!\n",
      "[INFO]: 1800/21000 processed!\n",
      "[INFO]: 1900/21000 processed!\n",
      "[INFO]: 2000/21000 processed!\n",
      "[INFO]: 2100/21000 processed!\n"
     ]
    }
   ],
   "source": [
    "im_path = r\"house_dataset\"\n",
    "txt_path = r\"HousesInfo.txt\"\n",
    "\n",
    "Data = PreProcessing(im_path, txt_path)\n",
    "im_data, rooms, house_number = Data.load_images()"
   ]
  },
  {
   "cell_type": "code",
   "execution_count": 13,
   "metadata": {},
   "outputs": [
    {
     "name": "stdout",
     "output_type": "stream",
     "text": [
      "The shape of image Dataset is: (535, 4, 32, 32, 3) \n"
     ]
    }
   ],
   "source": [
    "im_data = np.array(im_data).reshape(535, 4, 32, 32, 3)\n",
    "print(f\"The shape of image Dataset is: {np.array(im_data).shape} \")"
   ]
  },
  {
   "cell_type": "code",
   "execution_count": 10,
   "metadata": {},
   "outputs": [
    {
     "name": "stdout",
     "output_type": "stream",
     "text": [
      "The shape of text Datase is: (535, 4)\n",
      "The shape of labes is: (535, 1)\n"
     ]
    }
   ],
   "source": [
    "txt_data, labels = Data.read_text()\n",
    "print(f\"The shape of text Datase is: {np.array(txt_data).shape}\")\n",
    "print(f\"The shape of labes is: {np.array(labels).shape}\")"
   ]
  },
  {
   "cell_type": "code",
   "execution_count": null,
   "metadata": {},
   "outputs": [],
   "source": []
  },
  {
   "cell_type": "code",
   "execution_count": 11,
   "metadata": {},
   "outputs": [
    {
     "name": "stdout",
     "output_type": "stream",
     "text": [
      "a sample of binarized label is: [0 0 0 0 0 0 0 0 0 0 0 0 0 0 0 0 0 0 0 0 0 0 0 0 0 0 0 0 0 0 0 0 0 0 0 0 0\n",
      " 0 0 0 0 0 0 0 0 0 0 0 0 0 0 0 0 0 0 0 0 0 0 0 0 0 0 0 0 0 0 0 0 0 0 0 0 0\n",
      " 0 0 0 0 0 0 0 0 0 0 0 0 0 0 0 0 0 0 0 0 0 0 0 0 1 0 0 0 0 0 0 0 0 0 0 0 0\n",
      " 0 0 0 0 0 0 0 0 0 0 0 0 0 0 0 0 0 0 0 0 0 0 0 0 0 0 0 0 0 0 0 0 0 0 0 0 0\n",
      " 0 0 0 0 0 0 0 0 0 0 0 0 0 0 0 0 0 0 0 0 0 0 0 0 0 0 0 0 0 0 0 0 0 0 0 0 0\n",
      " 0 0 0 0 0 0 0 0 0 0 0 0 0 0 0 0 0 0 0 0 0 0 0 0 0 0 0 0 0 0 0 0 0 0 0 0 0\n",
      " 0 0 0 0 0 0 0 0 0 0 0 0 0 0 0 0 0 0 0 0 0 0 0 0 0 0 0 0 0 0 0 0 0 0 0 0 0\n",
      " 0 0 0 0 0 0 0 0 0 0 0 0 0 0 0 0 0 0 0 0 0 0 0 0 0 0 0 0 0 0 0 0 0 0 0 0 0\n",
      " 0 0 0 0 0 0 0 0 0 0 0 0 0 0 0 0 0 0 0 0 0 0 0 0 0 0 0 0 0 0 0 0 0 0 0 0 0\n",
      " 0 0 0 0 0 0 0 0 0 0 0 0 0 0 0 0 0 0 0 0 0 0 0 0 0 0 0 0 0 0 0 0 0 0 0 0]\n"
     ]
    }
   ],
   "source": [
    "#lb = label_binarizer(labels)\n",
    "#print(lb[100])\n",
    "labels = Data.label_binarizer(labels)\n",
    "print(f\"a sample of binarized label is: {labels[np.random.randint(0,len(labels))]}\")"
   ]
  },
  {
   "cell_type": "code",
   "execution_count": 14,
   "metadata": {},
   "outputs": [],
   "source": [
    "txt_train, txt_test, img_train, img_test, labels_train, labels_test = train_test_split(im_data,txt_data, labels )"
   ]
  }
 ],
 "metadata": {
  "kernelspec": {
   "display_name": "Python 3",
   "language": "python",
   "name": "python3"
  },
  "language_info": {
   "codemirror_mode": {
    "name": "ipython",
    "version": 3
   },
   "file_extension": ".py",
   "mimetype": "text/x-python",
   "name": "python",
   "nbconvert_exporter": "python",
   "pygments_lexer": "ipython3",
   "version": "3.9.6"
  },
  "orig_nbformat": 4,
  "vscode": {
   "interpreter": {
    "hash": "e7b065f8cd6ba50528076c15710d53d3e4db50fe10e66d944c912b6fb8887a73"
   }
  }
 },
 "nbformat": 4,
 "nbformat_minor": 2
}
