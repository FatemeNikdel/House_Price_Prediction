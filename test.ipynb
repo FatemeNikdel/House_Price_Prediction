{
 "cells": [
  {
   "cell_type": "code",
   "execution_count": 1,
   "metadata": {},
   "outputs": [],
   "source": [
    "import cv2\n",
    "import glob\n",
    "import pandas as pd\n",
    "import numpy as np\n",
    "from sklearn.preprocessing import LabelBinarizer\n",
    "from sklearn.model_selection import train_test_split"
   ]
  },
  {
   "cell_type": "code",
   "execution_count": 8,
   "metadata": {},
   "outputs": [],
   "source": [
    "class PreProcessing():\n",
    "\n",
    "    def __init__(self, im_path, txt_path):\n",
    "        self.im_path = im_path\n",
    "        self.txt_path = txt_path\n",
    "\n",
    "    ## Step 1: Create Dataset of Images\n",
    "    def load_images(self):\n",
    "        # Variables\n",
    "        bathroom_data = []\n",
    "        kitchen_data  = []\n",
    "        frontal_data  = []\n",
    "        bedroom_data  = []\n",
    "        \n",
    "        # Read Images and PreProcessing\n",
    "        for i , name in enumerate(glob.glob(self.im_path + \"\\\\*\")):\n",
    "            # Read images\n",
    "            img = cv2.imread(name)\n",
    "            # Resize and Normalize\n",
    "            img = cv2.resize(img, (32, 32))/255.0\n",
    "            # RGB Color\n",
    "            #img = cv2.cvtColor(img, cv2.COLOR_BGR2RGB)    % CV2 read images in GBR colors\n",
    "            # Find the location of the place in each image\n",
    "            location = name.split(\"\\\\\")[-1].split('_')[-1].split('.')[-2]\n",
    "            # Create 4 dataset of images related to each location\n",
    "            if location == \"bathroom\": bathroom_data.append(img)\n",
    "            if location == \"kitchen\" : kitchen_data.append(img)\n",
    "            if location == \"frontal\" : frontal_data.append(img)\n",
    "            if location == \"bedroom\" : bedroom_data.append(img)\n",
    "\n",
    "            if i % 100 == 0:\n",
    "                    print(f\"[INFO]: {i}/21000 processed!\")\n",
    "        return bathroom_data, kitchen_data, frontal_data, bedroom_data\n",
    "\n",
    "    ## Step 2: Create Dataset of Features\n",
    "    def read_text(self):\n",
    "        txt_data = []\n",
    "        # Read Text file and add Header to each column\n",
    "        df = pd.read_csv(self.txt_path,  sep=\" \", \n",
    "                  names=[\"F1\", \"F2\", \"F3\", \"F4\", \"Price\"])\n",
    "        # Consider the four first Column as inputs\n",
    "        txt_data = df.loc[:,[\"F1\", \"F2\", \"F3\", \"F4\"]]\n",
    "        return txt_data\n",
    "    \n",
    "    ## Step 3: Create Labels\n",
    "    def labels(self, df):\n",
    "        # Consider the  last Column as Label\n",
    "        labels = df.loc[:,[\"Price\"]]\n",
    "        return labels\n",
    "\n",
    "    ## Step 4: Label binarizer\n",
    "    def label_binarizer(self, labels):\n",
    "        LB = LabelBinarizer()\n",
    "        all_labels = LB.fit_transform(labels)\n",
    "        return all_labels\n",
    "\n",
    "    ## Step 5: Train-Test Split\n",
    "    def train_test_split(txt_data, bathroom_data, kitchen_data, frontal_data, bedroom_data, labels):\n",
    "        \"\"\"random_state=42 to ensure that all calls to train_test_split use the same random seed,\n",
    "         so the train/test splits are consistent.\"\"\"\n",
    "        txt_train, txt_test           = train_test_split(txt_data,      test_size = 0.2, random_state=42 )\n",
    "        bathroom_train, bathroom_test = train_test_split(bathroom_data, test_size = 0.2, random_state=42 )\n",
    "        kitchen_train, kitchen_test   = train_test_split(kitchen_data,  test_size = 0.2, random_state=42 )\n",
    "        frontal_train, frontal_test   = train_test_split(frontal_data,  test_size = 0.2, random_state=42 )\n",
    "        bedroom_train, bbedroom_test  = train_test_split(bedroom_data,  test_size = 0.2, random_state=42 )\n",
    "        labels_train, labels_test     = train_test_split(labels,        test_size = 0.2, random_state=42 )\n",
    "        return txt_train, txt_test, bathroom_train, bathroom_test, kitchen_train, kitchen_test, frontal_train, frontal_test, bedroom_train, bbedroom_test, labels_train, labels_test"
   ]
  },
  {
   "cell_type": "code",
   "execution_count": 9,
   "metadata": {},
   "outputs": [
    {
     "name": "stdout",
     "output_type": "stream",
     "text": [
      "[INFO]: 0/21000 processed!\n",
      "[INFO]: 100/21000 processed!\n",
      "[INFO]: 200/21000 processed!\n",
      "[INFO]: 300/21000 processed!\n",
      "[INFO]: 400/21000 processed!\n",
      "[INFO]: 500/21000 processed!\n",
      "[INFO]: 600/21000 processed!\n",
      "[INFO]: 700/21000 processed!\n",
      "[INFO]: 800/21000 processed!\n",
      "[INFO]: 900/21000 processed!\n",
      "[INFO]: 1000/21000 processed!\n",
      "[INFO]: 1100/21000 processed!\n",
      "[INFO]: 1200/21000 processed!\n",
      "[INFO]: 1300/21000 processed!\n",
      "[INFO]: 1400/21000 processed!\n",
      "[INFO]: 1500/21000 processed!\n",
      "[INFO]: 1600/21000 processed!\n",
      "[INFO]: 1700/21000 processed!\n",
      "[INFO]: 1800/21000 processed!\n",
      "[INFO]: 1900/21000 processed!\n",
      "[INFO]: 2000/21000 processed!\n",
      "[INFO]: 2100/21000 processed!\n"
     ]
    }
   ],
   "source": [
    "im_path = r\"house_dataset\"\n",
    "txt_path = r\"HousesInfo.txt\"\n",
    "\n",
    "Data = PreProcessing(im_path, txt_path)\n",
    "im_data, rooms, house_number = Data.load_images()"
   ]
  },
  {
   "cell_type": "code",
   "execution_count": 13,
   "metadata": {},
   "outputs": [
    {
     "name": "stdout",
     "output_type": "stream",
     "text": [
      "The shape of image Dataset is: (535, 4, 32, 32, 3) \n"
     ]
    }
   ],
   "source": [
    "im_data = np.array(im_data).reshape(535, 4, 32, 32, 3)\n",
    "print(f\"The shape of image Dataset is: {np.array(im_data).shape} \")"
   ]
  },
  {
   "cell_type": "code",
   "execution_count": 10,
   "metadata": {},
   "outputs": [
    {
     "name": "stdout",
     "output_type": "stream",
     "text": [
      "The shape of text Datase is: (535, 4)\n",
      "The shape of labes is: (535, 1)\n"
     ]
    }
   ],
   "source": [
    "txt_data, labels = Data.read_text()\n",
    "print(f\"The shape of text Datase is: {np.array(txt_data).shape}\")\n",
    "print(f\"The shape of labes is: {np.array(labels).shape}\")"
   ]
  },
  {
   "cell_type": "code",
   "execution_count": null,
   "metadata": {},
   "outputs": [],
   "source": []
  },
  {
   "cell_type": "code",
   "execution_count": 11,
   "metadata": {},
   "outputs": [
    {
     "name": "stdout",
     "output_type": "stream",
     "text": [
      "a sample of binarized label is: [0 0 0 0 0 0 0 0 0 0 0 0 0 0 0 0 0 0 0 0 0 0 0 0 0 0 0 0 0 0 0 0 0 0 0 0 0\n",
      " 0 0 0 0 0 0 0 0 0 0 0 0 0 0 0 0 0 0 0 0 0 0 0 0 0 0 0 0 0 0 0 0 0 0 0 0 0\n",
      " 0 0 0 0 0 0 0 0 0 0 0 0 0 0 0 0 0 0 0 0 0 0 0 0 1 0 0 0 0 0 0 0 0 0 0 0 0\n",
      " 0 0 0 0 0 0 0 0 0 0 0 0 0 0 0 0 0 0 0 0 0 0 0 0 0 0 0 0 0 0 0 0 0 0 0 0 0\n",
      " 0 0 0 0 0 0 0 0 0 0 0 0 0 0 0 0 0 0 0 0 0 0 0 0 0 0 0 0 0 0 0 0 0 0 0 0 0\n",
      " 0 0 0 0 0 0 0 0 0 0 0 0 0 0 0 0 0 0 0 0 0 0 0 0 0 0 0 0 0 0 0 0 0 0 0 0 0\n",
      " 0 0 0 0 0 0 0 0 0 0 0 0 0 0 0 0 0 0 0 0 0 0 0 0 0 0 0 0 0 0 0 0 0 0 0 0 0\n",
      " 0 0 0 0 0 0 0 0 0 0 0 0 0 0 0 0 0 0 0 0 0 0 0 0 0 0 0 0 0 0 0 0 0 0 0 0 0\n",
      " 0 0 0 0 0 0 0 0 0 0 0 0 0 0 0 0 0 0 0 0 0 0 0 0 0 0 0 0 0 0 0 0 0 0 0 0 0\n",
      " 0 0 0 0 0 0 0 0 0 0 0 0 0 0 0 0 0 0 0 0 0 0 0 0 0 0 0 0 0 0 0 0 0 0 0 0]\n"
     ]
    }
   ],
   "source": [
    "#lb = label_binarizer(labels)\n",
    "#print(lb[100])\n",
    "labels = Data.label_binarizer(labels)\n",
    "print(f\"a sample of binarized label is: {labels[np.random.randint(0,len(labels))]}\")"
   ]
  },
  {
   "cell_type": "code",
   "execution_count": 14,
   "metadata": {},
   "outputs": [],
   "source": [
    "txt_train, txt_test, img_train, img_test, labels_train, labels_test = train_test_split(im_data,txt_data, labels )"
   ]
  }
 ],
 "metadata": {
  "kernelspec": {
   "display_name": "Python 3",
   "language": "python",
   "name": "python3"
  },
  "language_info": {
   "codemirror_mode": {
    "name": "ipython",
    "version": 3
   },
   "file_extension": ".py",
   "mimetype": "text/x-python",
   "name": "python",
   "nbconvert_exporter": "python",
   "pygments_lexer": "ipython3",
   "version": "3.9.6"
  },
  "orig_nbformat": 4,
  "vscode": {
   "interpreter": {
    "hash": "e7b065f8cd6ba50528076c15710d53d3e4db50fe10e66d944c912b6fb8887a73"
   }
  }
 },
 "nbformat": 4,
 "nbformat_minor": 2
}
